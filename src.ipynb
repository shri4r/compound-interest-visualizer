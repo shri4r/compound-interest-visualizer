{
 "cells": [
  {
   "cell_type": "code",
   "execution_count": null,
   "metadata": {},
   "outputs": [],
   "source": [
    "def calculate_compound_interest(P: float, r: float, n: int, t: float) -> float:\n",
    "    \"\"\"\n",
    "    Calculate the compound interest.\n",
    "\n",
    "    Parameters:\n",
    "    P (float): Initial principal amount\n",
    "    r (float): Interest rate (decimal)\n",
    "    n (int): Number of times interest is compounded per year\n",
    "    t (float): Time period in years\n",
    "\n",
    "    Returns:\n",
    "    float: Final accumulated amount (principal + compound interest)\n",
    "    \"\"\"\n",
    "    A = P * (1 + r / n) ** (n * t)\n",
    "    return A"
   ]
  },
  {
   "cell_type": "code",
   "execution_count": null,
   "metadata": {},
   "outputs": [],
   "source": [
    "# Define your principal amount, interest rate, number of times interest is compounded per year\n",
    "# and time period in years\n",
    "P = 5000  # Principal amount\n",
    "r = 0.05  # Interest rate (5% interest rate is 0.05 in decimal)\n",
    "n = 4  # Interest is compounded quarterly\n",
    "t = 10  # Time period in years\n",
    "\n",
    "# Call the function with these values\n",
    "final_amount = calculate_compound_interest(P, r, n, t)"
   ]
  },
  {
   "cell_type": "code",
   "execution_count": null,
   "metadata": {},
   "outputs": [],
   "source": [
    "# Output\n",
    "summary = f\"\"\"\n",
    "Initial deposit: ${P:,.2f}\n",
    "Interest rate: {r*100}% yearly\n",
    "Compounded: {n} times per year\n",
    "Time: {t} years\n",
    "The final accumulated amount: {final_amount}\n",
    "\"\"\"\n",
    "\n",
    "print(summary)"
   ]
  },
  {
   "cell_type": "code",
   "execution_count": null,
   "metadata": {},
   "outputs": [],
   "source": [
    "import pandas as pd"
   ]
  },
  {
   "cell_type": "code",
   "execution_count": null,
   "metadata": {},
   "outputs": [],
   "source": [
    "# Constants that act as constraints\n",
    "MAX_PRINCIPAL = 1e10  # $10,000,000,000\n",
    "MAX_ANNUAL_INTEREST_RATE = 0.99  # 99%\n",
    "MAX_YEARS = 1e2  # 100 years"
   ]
  },
  {
   "cell_type": "code",
   "execution_count": null,
   "metadata": {},
   "outputs": [],
   "source": [
    "def check_value(value: float, name: str) -> None:\n",
    "    \"\"\"\n",
    "    Check if a given value is valid.\n",
    "\n",
    "    Parameters:\n",
    "    value (float): The value to be checked.\n",
    "    name (str): The name of the value.\n",
    "\n",
    "    Raises:\n",
    "    ValueError: If the value is negative or zero.\n",
    "\n",
    "    Returns:\n",
    "    None\n",
    "    \"\"\"\n",
    "    if value < 0:\n",
    "        raise ValueError(f\"{name} must be non-negative\")\n",
    "    if value == 0:\n",
    "        raise ValueError(f\"{name} must be non-zero\")"
   ]
  },
  {
   "cell_type": "code",
   "execution_count": null,
   "metadata": {},
   "outputs": [],
   "source": [
    "def calculate_monthly_balance_and_interest(\n",
    "    principal: float, annual_interest_rate: float, years: int\n",
    ") -> pd.DataFrame:\n",
    "    \"\"\"\n",
    "    Calculate the monthly balance and interest for a given principal, annual interest rate, and number of years.\n",
    "\n",
    "    Args:\n",
    "        principal (float): The initial amount of money.\n",
    "        annual_interest_rate (float): The annual interest rate as a decimal.\n",
    "        years (int): The number of years for which the interest is calculated.\n",
    "\n",
    "    Returns:\n",
    "        pd.DataFrame: A DataFrame containing the monthly balance and interest for each month.\n",
    "    \"\"\"\n",
    "\n",
    "    # Add checks for input size\n",
    "    if principal > MAX_PRINCIPAL:\n",
    "        raise ValueError(\"Principal is too large\")\n",
    "    if annual_interest_rate > MAX_ANNUAL_INTEREST_RATE:\n",
    "        raise ValueError(\"Annual interest rate is too large\")\n",
    "    if years > MAX_YEARS:\n",
    "        raise ValueError(\"Years is too large\")\n",
    "\n",
    "    # Check if the inputs are non-negative and non-zero\n",
    "    check_value(principal, \"Principal\")\n",
    "    check_value(annual_interest_rate, \"Annual interest rate\")\n",
    "    check_value(years, \"Years\")\n",
    "\n",
    "    # Check if years is an integer\n",
    "    if not isinstance(years, int):\n",
    "        raise ValueError(\"Years must be an integer\")\n",
    "\n",
    "    monthly_interest_rate = annual_interest_rate / 12\n",
    "    months = years * 12\n",
    "    balance = principal\n",
    "    data = {\"Month\": [], \"Interest\": [], \"Balance\": []}\n",
    "\n",
    "    for month in range(1, months + 1):\n",
    "        interest = balance * monthly_interest_rate\n",
    "        balance += interest\n",
    "        data[\"Month\"].append(month)\n",
    "        data[\"Interest\"].append(interest)\n",
    "        data[\"Balance\"].append(balance)\n",
    "\n",
    "    return pd.DataFrame(data)"
   ]
  },
  {
   "cell_type": "code",
   "execution_count": null,
   "metadata": {},
   "outputs": [],
   "source": [
    "# Use the function\n",
    "df = calculate_monthly_balance_and_interest(5000, 0.05, 5)\n",
    "\n",
    "print(df.head(10))  # Print the first 10 rows\n",
    "\n",
    "# Generate HTML table\n",
    "html_table = df.to_html(index=False, justify=\"center\")\n",
    "\n",
    "# Save to file\n",
    "with open(\"output.html\", \"w\") as f:\n",
    "    f.write(html_table)"
   ]
  },
  {
   "cell_type": "markdown",
   "metadata": {},
   "source": [
    "![html_output_picture](https://github.com/shri4r/compound-interest-visualizer/assets/47565405/71f73687-be8c-4eef-8905-1bf0fcaa18b2)"
   ]
  },
  {
   "cell_type": "code",
   "execution_count": null,
   "metadata": {},
   "outputs": [],
   "source": [
    "import matplotlib.pyplot as plt\n",
    "\n",
    "# Get the months and balances data\n",
    "months = df[\"Month\"]\n",
    "balances = df[\"Balance\"]\n",
    "\n",
    "# Plot the line chart\n",
    "plt.plot(months, balances)\n",
    "\n",
    "# Set the labels and title\n",
    "plt.xlabel(\"Month\")\n",
    "plt.ylabel(\"Account Balance\")\n",
    "plt.title(\"Account Growth Month by Month\")\n",
    "\n",
    "# Show the plot\n",
    "plt.show()"
   ]
  },
  {
   "cell_type": "code",
   "execution_count": null,
   "metadata": {},
   "outputs": [],
   "source": []
  }
 ],
 "metadata": {
  "kernelspec": {
   "display_name": "base",
   "language": "python",
   "name": "python3"
  },
  "language_info": {
   "codemirror_mode": {
    "name": "ipython",
    "version": 3
   },
   "file_extension": ".py",
   "mimetype": "text/x-python",
   "name": "python",
   "nbconvert_exporter": "python",
   "pygments_lexer": "ipython3",
   "version": "3.11.5"
  }
 },
 "nbformat": 4,
 "nbformat_minor": 2
}
